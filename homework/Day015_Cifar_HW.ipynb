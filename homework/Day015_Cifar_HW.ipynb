{
 "cells": [
  {
   "cell_type": "markdown",
   "metadata": {},
   "source": [
    "## 『本次練習內容』\n",
    "#### 運用這幾天所學觀念搭建一個CNN分類器"
   ]
  },
  {
   "cell_type": "markdown",
   "metadata": {},
   "source": [
    "## 『本次練習目的』\n",
    "  #### 熟悉CNN分類器搭建步驟與原理\n",
    "  #### 學員們可以嘗試不同搭法，如使用不同的Maxpooling層，用GlobalAveragePooling取代Flatten等等"
   ]
  },
  {
   "cell_type": "code",
   "execution_count": 1,
   "metadata": {},
   "outputs": [
    {
     "name": "stderr",
     "output_type": "stream",
     "text": [
      "Using TensorFlow backend.\n"
     ]
    }
   ],
   "source": [
    "from keras.models import Sequential\n",
    "from keras.layers import Convolution2D\n",
    "from keras.layers import MaxPooling2D\n",
    "from keras.layers import Flatten\n",
    "from keras.layers import Dense\n",
    "from keras.layers import Dropout\n",
    "from keras.layers import BatchNormalization\n",
    "from keras.layers import GlobalAveragePooling2D\n",
    "from keras.datasets import cifar10\n",
    "import numpy as np\n",
    "import tensorflow as tf\n",
    "from sklearn.preprocessing import OneHotEncoder\n"
   ]
  },
  {
   "cell_type": "code",
   "execution_count": 2,
   "metadata": {},
   "outputs": [
    {
     "name": "stdout",
     "output_type": "stream",
     "text": [
      "(50000, 32, 32, 3)\n"
     ]
    }
   ],
   "source": [
    "(x_train, y_train), (x_test, y_test) = cifar10.load_data()\n",
    "\n",
    "print(x_train.shape) #(50000, 32, 32, 3)\n",
    "\n",
    "## Normalize Data\n",
    "def normalize(X_train,X_test):\n",
    "        mean = np.mean(X_train,axis=(0,1,2,3))\n",
    "        std = np.std(X_train, axis=(0, 1, 2, 3))\n",
    "        X_train = (X_train-mean)/(std+1e-7)\n",
    "        X_test = (X_test-mean)/(std+1e-7) \n",
    "        return X_train, X_test,mean,std\n",
    "    \n",
    "    \n",
    "## Normalize Training and Testset    \n",
    "x_train, x_test,mean_train,std_train = normalize(x_train, x_test) "
   ]
  },
  {
   "cell_type": "code",
   "execution_count": 3,
   "metadata": {},
   "outputs": [],
   "source": [
    "## OneHot Label 由(None, 1)-(None, 10)\n",
    "## ex. label=2,變成[0,0,1,0,0,0,0,0,0,0]\n",
    "one_hot=OneHotEncoder()\n",
    "y_train=one_hot.fit_transform(y_train).toarray()\n",
    "y_test=one_hot.transform(y_test).toarray()"
   ]
  },
  {
   "cell_type": "code",
   "execution_count": 4,
   "metadata": {
    "scrolled": true
   },
   "outputs": [
    {
     "name": "stdout",
     "output_type": "stream",
     "text": [
      "WARNING:tensorflow:From /usr/lib/python3.6/site-packages/keras/backend/tensorflow_backend.py:68: The name tf.get_default_graph is deprecated. Please use tf.compat.v1.get_default_graph instead.\n",
      "\n",
      "WARNING:tensorflow:From /usr/lib/python3.6/site-packages/keras/backend/tensorflow_backend.py:508: The name tf.placeholder is deprecated. Please use tf.compat.v1.placeholder instead.\n",
      "\n",
      "WARNING:tensorflow:From /usr/lib/python3.6/site-packages/keras/backend/tensorflow_backend.py:3837: The name tf.random_uniform is deprecated. Please use tf.random.uniform instead.\n",
      "\n",
      "WARNING:tensorflow:From /usr/lib/python3.6/site-packages/keras/backend/tensorflow_backend.py:168: The name tf.get_default_session is deprecated. Please use tf.compat.v1.get_default_session instead.\n",
      "\n",
      "WARNING:tensorflow:From /usr/lib/python3.6/site-packages/keras/backend/tensorflow_backend.py:175: The name tf.ConfigProto is deprecated. Please use tf.compat.v1.ConfigProto instead.\n",
      "\n",
      "WARNING:tensorflow:From /usr/lib/python3.6/site-packages/keras/backend/tensorflow_backend.py:180: The name tf.Session is deprecated. Please use tf.compat.v1.Session instead.\n",
      "\n",
      "WARNING:tensorflow:From /usr/lib/python3.6/site-packages/keras/backend/tensorflow_backend.py:184: The name tf.global_variables is deprecated. Please use tf.compat.v1.global_variables instead.\n",
      "\n",
      "WARNING:tensorflow:From /usr/lib/python3.6/site-packages/keras/backend/tensorflow_backend.py:193: The name tf.is_variable_initialized is deprecated. Please use tf.compat.v1.is_variable_initialized instead.\n",
      "\n",
      "WARNING:tensorflow:From /usr/lib/python3.6/site-packages/keras/backend/tensorflow_backend.py:200: The name tf.variables_initializer is deprecated. Please use tf.compat.v1.variables_initializer instead.\n",
      "\n",
      "WARNING:tensorflow:From /usr/lib/python3.6/site-packages/keras/backend/tensorflow_backend.py:1801: The name tf.nn.fused_batch_norm is deprecated. Please use tf.compat.v1.nn.fused_batch_norm instead.\n",
      "\n",
      "WARNING:tensorflow:From /usr/lib/python3.6/site-packages/keras/backend/tensorflow_backend.py:127: The name tf.placeholder_with_default is deprecated. Please use tf.compat.v1.placeholder_with_default instead.\n",
      "\n",
      "WARNING:tensorflow:From /usr/lib/python3.6/site-packages/keras/backend/tensorflow_backend.py:3661: The name tf.nn.max_pool is deprecated. Please use tf.nn.max_pool2d instead.\n",
      "\n",
      "WARNING:tensorflow:From /usr/lib/python3.6/site-packages/keras/backend/tensorflow_backend.py:3144: calling dropout (from tensorflow.python.ops.nn_ops) with keep_prob is deprecated and will be removed in a future version.\n",
      "Instructions for updating:\n",
      "Please use `rate` instead of `keep_prob`. Rate should be set to `rate = 1 - keep_prob`.\n",
      "_________________________________________________________________\n",
      "Layer (type)                 Output Shape              Param #   \n",
      "=================================================================\n",
      "conv2d_1 (Conv2D)            (None, 32, 32, 64)        1792      \n",
      "_________________________________________________________________\n",
      "batch_normalization_1 (Batch (None, 32, 32, 64)        256       \n",
      "_________________________________________________________________\n",
      "max_pooling2d_1 (MaxPooling2 (None, 16, 16, 64)        0         \n",
      "_________________________________________________________________\n",
      "dropout_1 (Dropout)          (None, 16, 16, 64)        0         \n",
      "_________________________________________________________________\n",
      "conv2d_2 (Conv2D)            (None, 16, 16, 64)        36928     \n",
      "_________________________________________________________________\n",
      "batch_normalization_2 (Batch (None, 16, 16, 64)        256       \n",
      "_________________________________________________________________\n",
      "max_pooling2d_2 (MaxPooling2 (None, 8, 8, 64)          0         \n",
      "_________________________________________________________________\n",
      "dropout_2 (Dropout)          (None, 8, 8, 64)          0         \n",
      "_________________________________________________________________\n",
      "conv2d_3 (Conv2D)            (None, 8, 8, 32)          8224      \n",
      "_________________________________________________________________\n",
      "batch_normalization_3 (Batch (None, 8, 8, 32)          128       \n",
      "_________________________________________________________________\n",
      "max_pooling2d_3 (MaxPooling2 (None, 4, 4, 32)          0         \n",
      "_________________________________________________________________\n",
      "dropout_3 (Dropout)          (None, 4, 4, 32)          0         \n",
      "_________________________________________________________________\n",
      "flatten_1 (Flatten)          (None, 512)               0         \n",
      "_________________________________________________________________\n",
      "dense_1 (Dense)              (None, 512)               262656    \n",
      "_________________________________________________________________\n",
      "dropout_4 (Dropout)          (None, 512)               0         \n",
      "_________________________________________________________________\n",
      "dense_2 (Dense)              (None, 10)                5130      \n",
      "=================================================================\n",
      "Total params: 315,370\n",
      "Trainable params: 315,050\n",
      "Non-trainable params: 320\n",
      "_________________________________________________________________\n",
      "WARNING:tensorflow:From /usr/lib/python3.6/site-packages/keras/optimizers.py:757: The name tf.train.Optimizer is deprecated. Please use tf.compat.v1.train.Optimizer instead.\n",
      "\n",
      "WARNING:tensorflow:From /usr/lib/python3.6/site-packages/keras/backend/tensorflow_backend.py:3014: The name tf.log is deprecated. Please use tf.math.log instead.\n",
      "\n"
     ]
    },
    {
     "name": "stderr",
     "output_type": "stream",
     "text": [
      "/usr/lib/python3.6/site-packages/ipykernel_launcher.py:36: UserWarning: Update your `Dense` call to the Keras 2 API: `Dense(activation=\"softmax\", units=10)`\n"
     ]
    }
   ],
   "source": [
    "import os\n",
    "os.environ[\"CUDA_VISIBLE_DEVICES\"] = \"2\"\n",
    "\n",
    "classifier=Sequential()\n",
    "\n",
    "#卷積組合\n",
    "classifier.add(Convolution2D(64,kernel_size=(3,3),input_shape=(32,32,3),padding='same',activation='relu'))#32,3,3,input_shape=(32,32,3),activation='relu''\n",
    "classifier.add(BatchNormalization())\n",
    "\n",
    "classifier.add(MaxPooling2D(pool_size=(2,2)))\n",
    "classifier.add(Dropout(0.2)) \n",
    "\n",
    "#卷積組合\n",
    "classifier.add(Convolution2D(64,kernel_size=(3,3),padding='same',activation='relu'))\n",
    "classifier.add(BatchNormalization())\n",
    "\n",
    "classifier.add(MaxPooling2D(pool_size=(2,2)))\n",
    "classifier.add(Dropout(0.2)) \n",
    "\n",
    "#卷積組合\n",
    "classifier.add(Convolution2D(32,kernel_size=(2,2),padding='same',activation='relu'))\n",
    "classifier.add(BatchNormalization())\n",
    "\n",
    "classifier.add(MaxPooling2D(pool_size=(2,2)))\n",
    "classifier.add(Dropout(0.2)) \n",
    "\n",
    "#flatten\n",
    "classifier.add(Flatten())\n",
    "#classifier.add(GlobalAveragePooling2D())\n",
    "\n",
    "#FC\n",
    "classifier.add(Dense(512,activation='relu')) #output_dim=100,activation=relu\n",
    "classifier.add(Dropout(0.2)) \n",
    "\n",
    "#輸出\n",
    "classifier.add(Dense(output_dim=10,activation='softmax'))\n",
    "\n",
    "classifier.summary()\n",
    "\n",
    "#超過兩個就要選categorical_crossentrophy\n",
    "classifier.compile(optimizer = 'adam', loss = 'categorical_crossentropy', metrics = ['accuracy'])"
   ]
  },
  {
   "cell_type": "code",
   "execution_count": 5,
   "metadata": {
    "scrolled": true
   },
   "outputs": [
    {
     "name": "stdout",
     "output_type": "stream",
     "text": [
      "WARNING:tensorflow:From /usr/lib64/python3.6/site-packages/tensorflow_core/python/ops/math_grad.py:1424: where (from tensorflow.python.ops.array_ops) is deprecated and will be removed in a future version.\n",
      "Instructions for updating:\n",
      "Use tf.where in 2.0, which has the same broadcast rule as np.where\n",
      "WARNING:tensorflow:From /usr/lib/python3.6/site-packages/keras/backend/tensorflow_backend.py:977: The name tf.assign_add is deprecated. Please use tf.compat.v1.assign_add instead.\n",
      "\n",
      "WARNING:tensorflow:From /usr/lib/python3.6/site-packages/keras/backend/tensorflow_backend.py:964: The name tf.assign is deprecated. Please use tf.compat.v1.assign instead.\n",
      "\n",
      "Train on 40000 samples, validate on 10000 samples\n",
      "Epoch 1/50\n",
      "40000/40000 [==============================] - 9s 222us/step - loss: 1.5307 - acc: 0.4604 - val_loss: 1.2814 - val_acc: 0.5642\n",
      "Epoch 2/50\n",
      "40000/40000 [==============================] - 6s 141us/step - loss: 1.1472 - acc: 0.5901 - val_loss: 0.9873 - val_acc: 0.6475\n",
      "Epoch 3/50\n",
      "40000/40000 [==============================] - 5s 137us/step - loss: 0.9915 - acc: 0.6460 - val_loss: 0.9180 - val_acc: 0.6754\n",
      "Epoch 4/50\n",
      "40000/40000 [==============================] - 6s 138us/step - loss: 0.8850 - acc: 0.6873 - val_loss: 0.8270 - val_acc: 0.7137\n",
      "Epoch 5/50\n",
      "40000/40000 [==============================] - 6s 139us/step - loss: 0.8103 - acc: 0.7106 - val_loss: 0.8093 - val_acc: 0.7205\n",
      "Epoch 6/50\n",
      "40000/40000 [==============================] - 6s 145us/step - loss: 0.7549 - acc: 0.7312 - val_loss: 0.7446 - val_acc: 0.7446\n",
      "Epoch 7/50\n",
      "40000/40000 [==============================] - 6s 141us/step - loss: 0.6941 - acc: 0.7548 - val_loss: 0.7464 - val_acc: 0.7414\n",
      "Epoch 8/50\n",
      "40000/40000 [==============================] - 6s 141us/step - loss: 0.6539 - acc: 0.7703 - val_loss: 0.7284 - val_acc: 0.7527\n",
      "Epoch 9/50\n",
      "40000/40000 [==============================] - 6s 143us/step - loss: 0.6241 - acc: 0.7793 - val_loss: 0.6766 - val_acc: 0.7674\n",
      "Epoch 10/50\n",
      "40000/40000 [==============================] - 6s 140us/step - loss: 0.5928 - acc: 0.7904 - val_loss: 0.7102 - val_acc: 0.7616\n",
      "Epoch 11/50\n",
      "40000/40000 [==============================] - 6s 139us/step - loss: 0.5632 - acc: 0.8006 - val_loss: 0.6581 - val_acc: 0.7771\n",
      "Epoch 12/50\n",
      "40000/40000 [==============================] - 6s 139us/step - loss: 0.5353 - acc: 0.8114 - val_loss: 0.6822 - val_acc: 0.7688\n",
      "Epoch 13/50\n",
      "40000/40000 [==============================] - 6s 138us/step - loss: 0.5139 - acc: 0.8194 - val_loss: 0.6607 - val_acc: 0.7833\n",
      "Epoch 14/50\n",
      "40000/40000 [==============================] - 6s 140us/step - loss: 0.4903 - acc: 0.8258 - val_loss: 0.6548 - val_acc: 0.7798\n",
      "Epoch 15/50\n",
      "40000/40000 [==============================] - 6s 141us/step - loss: 0.4722 - acc: 0.8333 - val_loss: 0.6386 - val_acc: 0.7847\n",
      "Epoch 16/50\n",
      "40000/40000 [==============================] - 6s 141us/step - loss: 0.4576 - acc: 0.8386 - val_loss: 0.6615 - val_acc: 0.7846\n",
      "Epoch 17/50\n",
      "40000/40000 [==============================] - 5s 136us/step - loss: 0.4435 - acc: 0.8415 - val_loss: 0.6770 - val_acc: 0.7854\n",
      "Epoch 18/50\n",
      "40000/40000 [==============================] - 6s 141us/step - loss: 0.4208 - acc: 0.8503 - val_loss: 0.6809 - val_acc: 0.7855\n",
      "Epoch 19/50\n",
      "40000/40000 [==============================] - 6s 140us/step - loss: 0.4075 - acc: 0.8545 - val_loss: 0.6598 - val_acc: 0.7908\n",
      "Epoch 20/50\n",
      "40000/40000 [==============================] - 6s 138us/step - loss: 0.3954 - acc: 0.8597 - val_loss: 0.6800 - val_acc: 0.7857\n",
      "Epoch 21/50\n",
      "40000/40000 [==============================] - 5s 135us/step - loss: 0.3922 - acc: 0.8601 - val_loss: 0.6721 - val_acc: 0.7839\n",
      "Epoch 22/50\n",
      "40000/40000 [==============================] - 6s 142us/step - loss: 0.3735 - acc: 0.8684 - val_loss: 0.6961 - val_acc: 0.7838\n",
      "Epoch 23/50\n",
      "40000/40000 [==============================] - 6s 141us/step - loss: 0.3751 - acc: 0.8690 - val_loss: 0.6547 - val_acc: 0.7932\n",
      "Epoch 24/50\n",
      "40000/40000 [==============================] - 6s 142us/step - loss: 0.3540 - acc: 0.8765 - val_loss: 0.7299 - val_acc: 0.7752\n",
      "Epoch 25/50\n",
      "40000/40000 [==============================] - 6s 139us/step - loss: 0.3531 - acc: 0.8766 - val_loss: 0.6894 - val_acc: 0.7856\n",
      "Epoch 26/50\n",
      "40000/40000 [==============================] - 6s 139us/step - loss: 0.3360 - acc: 0.8818 - val_loss: 0.6935 - val_acc: 0.7865\n",
      "Epoch 27/50\n",
      "40000/40000 [==============================] - 6s 141us/step - loss: 0.3349 - acc: 0.8827 - val_loss: 0.7070 - val_acc: 0.7848\n",
      "Epoch 28/50\n",
      "40000/40000 [==============================] - 6s 139us/step - loss: 0.3301 - acc: 0.8817 - val_loss: 0.7138 - val_acc: 0.7871\n",
      "Epoch 29/50\n",
      "40000/40000 [==============================] - 5s 136us/step - loss: 0.3198 - acc: 0.8855 - val_loss: 0.6927 - val_acc: 0.7918\n",
      "Epoch 30/50\n",
      "40000/40000 [==============================] - 6s 138us/step - loss: 0.3107 - acc: 0.8894 - val_loss: 0.7141 - val_acc: 0.7920\n",
      "Epoch 31/50\n",
      "40000/40000 [==============================] - 6s 141us/step - loss: 0.3105 - acc: 0.8910 - val_loss: 0.7237 - val_acc: 0.7920\n",
      "Epoch 32/50\n",
      "40000/40000 [==============================] - 6s 138us/step - loss: 0.3094 - acc: 0.8905 - val_loss: 0.7414 - val_acc: 0.7886\n",
      "Epoch 33/50\n",
      "40000/40000 [==============================] - 5s 136us/step - loss: 0.2982 - acc: 0.8945 - val_loss: 0.7289 - val_acc: 0.7931\n",
      "Epoch 34/50\n",
      "40000/40000 [==============================] - 6s 138us/step - loss: 0.2964 - acc: 0.8960 - val_loss: 0.7003 - val_acc: 0.7921\n",
      "Epoch 35/50\n",
      "40000/40000 [==============================] - 6s 138us/step - loss: 0.2923 - acc: 0.8978 - val_loss: 0.6769 - val_acc: 0.7991\n",
      "Epoch 36/50\n",
      "40000/40000 [==============================] - 6s 140us/step - loss: 0.2823 - acc: 0.8999 - val_loss: 0.7007 - val_acc: 0.7993\n",
      "Epoch 37/50\n",
      "40000/40000 [==============================] - 6s 140us/step - loss: 0.2882 - acc: 0.8982 - val_loss: 0.7146 - val_acc: 0.7985\n",
      "Epoch 38/50\n",
      "40000/40000 [==============================] - 6s 140us/step - loss: 0.2786 - acc: 0.9028 - val_loss: 0.7106 - val_acc: 0.7992\n",
      "Epoch 39/50\n",
      "40000/40000 [==============================] - 5s 136us/step - loss: 0.2734 - acc: 0.9051 - val_loss: 0.7148 - val_acc: 0.7936\n",
      "Epoch 40/50\n",
      "40000/40000 [==============================] - 6s 138us/step - loss: 0.2720 - acc: 0.9061 - val_loss: 0.7350 - val_acc: 0.7922\n",
      "Epoch 41/50\n",
      "40000/40000 [==============================] - 6s 144us/step - loss: 0.2711 - acc: 0.9060 - val_loss: 0.7004 - val_acc: 0.7972\n",
      "Epoch 42/50\n",
      "40000/40000 [==============================] - 6s 138us/step - loss: 0.2678 - acc: 0.9059 - val_loss: 0.7188 - val_acc: 0.7987\n",
      "Epoch 43/50\n",
      "40000/40000 [==============================] - 6s 139us/step - loss: 0.2596 - acc: 0.9067 - val_loss: 0.7225 - val_acc: 0.7972\n",
      "Epoch 44/50\n",
      "40000/40000 [==============================] - 6s 139us/step - loss: 0.2577 - acc: 0.9091 - val_loss: 0.7098 - val_acc: 0.7971\n",
      "Epoch 45/50\n",
      "40000/40000 [==============================] - 6s 141us/step - loss: 0.2533 - acc: 0.9115 - val_loss: 0.7570 - val_acc: 0.7955\n",
      "Epoch 46/50\n",
      "40000/40000 [==============================] - 6s 138us/step - loss: 0.2559 - acc: 0.9113 - val_loss: 0.7381 - val_acc: 0.7955\n",
      "Epoch 47/50\n",
      "40000/40000 [==============================] - 5s 136us/step - loss: 0.2517 - acc: 0.9104 - val_loss: 0.7537 - val_acc: 0.7970\n",
      "Epoch 48/50\n",
      "40000/40000 [==============================] - 6s 139us/step - loss: 0.2503 - acc: 0.9138 - val_loss: 0.7512 - val_acc: 0.7906\n",
      "Epoch 49/50\n",
      "40000/40000 [==============================] - 5s 137us/step - loss: 0.2437 - acc: 0.9139 - val_loss: 0.7563 - val_acc: 0.7926\n",
      "Epoch 50/50\n",
      "40000/40000 [==============================] - 5s 137us/step - loss: 0.2366 - acc: 0.9169 - val_loss: 0.7530 - val_acc: 0.7976\n"
     ]
    }
   ],
   "source": [
    "train_history = classifier.fit(x_train,y_train,validation_split=0.2,batch_size=100,epochs=50)"
   ]
  },
  {
   "cell_type": "markdown",
   "metadata": {},
   "source": [
    "## 預測新圖片，輸入影像前處理要與訓練時相同\n",
    "#### ((X-mean)/(std+1e-7) ):這裡的mean跟std是訓練集的\n",
    "## 維度如下方示範"
   ]
  },
  {
   "cell_type": "code",
   "execution_count": 6,
   "metadata": {},
   "outputs": [
    {
     "data": {
      "text/plain": [
       "array([[1.6619821e-04, 1.9492604e-15, 9.2426002e-01, 1.9748416e-02,\n",
       "        1.4047576e-04, 1.1430731e-08, 5.5621207e-02, 3.4345438e-13,\n",
       "        6.3637330e-05, 6.7148977e-13]], dtype=float32)"
      ]
     },
     "execution_count": 6,
     "metadata": {},
     "output_type": "execute_result"
    }
   ],
   "source": [
    "input_example=(np.zeros(shape=(1,32,32,3))-mean_train)/(std_train+1e-7) \n",
    "classifier.predict(input_example)"
   ]
  },
  {
   "cell_type": "code",
   "execution_count": 7,
   "metadata": {},
   "outputs": [
    {
     "name": "stdout",
     "output_type": "stream",
     "text": [
      "10000/10000 [==============================] - 1s 110us/step\n",
      "accuracy= 0.7914\n"
     ]
    }
   ],
   "source": [
    "scores = classifier.evaluate(x_test, y_test)\n",
    "print('accuracy=', scores[1])"
   ]
  },
  {
   "cell_type": "code",
   "execution_count": null,
   "metadata": {},
   "outputs": [],
   "source": []
  }
 ],
 "metadata": {
  "kernelspec": {
   "display_name": "Python 3",
   "language": "python",
   "name": "python3"
  },
  "language_info": {
   "codemirror_mode": {
    "name": "ipython",
    "version": 3
   },
   "file_extension": ".py",
   "mimetype": "text/x-python",
   "name": "python",
   "nbconvert_exporter": "python",
   "pygments_lexer": "ipython3",
   "version": "3.6.8"
  }
 },
 "nbformat": 4,
 "nbformat_minor": 2
}
